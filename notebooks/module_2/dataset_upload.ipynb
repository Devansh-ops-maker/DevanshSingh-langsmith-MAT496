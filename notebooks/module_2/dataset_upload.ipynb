{
 "cells": [
  {
   "cell_type": "markdown",
   "metadata": {},
   "source": [
    "# Dataset Upload"
   ]
  },
  {
   "cell_type": "markdown",
   "metadata": {},
   "source": [
    "In addition to creating and editing Datasets in the LangSmith UI, you can also create and edit datasets with the LangSmith SDK."
   ]
  },
  {
   "cell_type": "markdown",
   "metadata": {},
   "source": [
    "Let's go ahead an upload a list of examples that we have from our RAG application to LangSmith as a new dataset."
   ]
  },
  {
   "cell_type": "code",
   "execution_count": null,
   "metadata": {},
   "outputs": [],
   "source": []
  },
  {
   "cell_type": "code",
   "execution_count": 3,
   "metadata": {},
   "outputs": [
    {
     "data": {
      "text/plain": [
       "True"
      ]
     },
     "execution_count": 3,
     "metadata": {},
     "output_type": "execute_result"
    }
   ],
   "source": [
    "# Or you can use a .env file\n",
    "from dotenv import load_dotenv\n",
    "load_dotenv()"
   ]
  },
  {
   "cell_type": "code",
   "execution_count": 4,
   "metadata": {},
   "outputs": [
    {
     "data": {
      "text/plain": [
       "{'example_ids': ['0d12816a-c4b9-491f-83a3-43e8fcd8101e',\n",
       "  'a8026c91-a021-4406-8fec-e38f94f11083',\n",
       "  'cfe071db-faff-4f3e-921b-f03e04d85208',\n",
       "  '64149401-e4d0-45c0-b48d-1b76cff64a11',\n",
       "  'a0f2e967-cf87-4324-ac52-0804db308210',\n",
       "  '8364d5ca-6f3b-463e-ac87-9770da244cea',\n",
       "  '52699e25-efcf-4ab9-8344-7a65a81ac53b',\n",
       "  'db0073b5-59ef-41fc-841b-2f9fb15d39c2',\n",
       "  '34bb18d4-744a-4aa7-b0bc-1a0c12306c3e',\n",
       "  'ab0b715b-4077-42af-ac4a-9940bbf58c2e'],\n",
       " 'count': 10}"
      ]
     },
     "execution_count": 4,
     "metadata": {},
     "output_type": "execute_result"
    }
   ],
   "source": [
    "from langsmith import Client\n",
    "\n",
    "example_inputs = [\n",
    "(\"How do I set up tracing to LangSmith if I'm using LangChain?\", \"To set up tracing to LangSmith while using LangChain, you need to set the environment variable `LANGSMITH_TRACING` to 'true'. Additionally, you must set the `LANGSMITH_API_KEY` environment variable to your API key. By default, traces will be logged to a project named \\\"default.\\\"\"),\n",
    "(\"How can I trace with the @traceable decorator?\", \"To trace with the @traceable decorator in Python, simply decorate any function you want to log traces for by adding `@traceable` above the function definition. Ensure that the LANGSMITH_TRACING environment variable is set to 'true' to enable tracing, and also set the LANGSMITH_API_KEY environment variable with your API key. By default, traces will be logged to a project named \\\"default,\\\" but you can configure it to log to a different project if needed.\"),\n",
    "(\"How do I pass metadata in with @traceable?\", \"You can pass metadata with the @traceable decorator by specifying arbitrary key-value pairs as arguments. This allows you to associate additional information, such as the execution environment or user details, with your traces. For more detailed instructions, refer to the LangSmith documentation on adding metadata and tags.\"),\n",
    "(\"What is LangSmith used for in three sentences?\", \"LangSmith is a platform designed for the development, monitoring, and testing of LLM applications. It enables users to collect and analyze unstructured data, debug issues, and create datasets for testing and evaluation. The tool supports various workflows throughout the application development lifecycle, enhancing the overall performance and reliability of LLM applications.\"),\n",
    "(\"What testing capabilities does LangSmith have?\", \"LangSmith offers capabilities for creating datasets of inputs and reference outputs to run tests on LLM applications, supporting a test-driven approach. It allows for bulk uploads of test cases, on-the-fly creation, and exporting from application traces. Additionally, LangSmith facilitates custom evaluations to score test results, enhancing the testing process.\"),\n",
    "(\"Does LangSmith support online evaluation?\", \"Yes, LangSmith supports online evaluation as a feature. It allows you to configure a sample of runs from production to be evaluated, providing feedback on those runs. You can use either custom code or an LLM as a judge for the evaluations.\"),\n",
    "(\"Does LangSmith support offline evaluation?\", \"Yes, LangSmith supports offline evaluation through its evaluation how-to guides and features for managing datasets. Users can manage datasets for offline evaluations and run various types of evaluations, including unit testing and auto-evaluation. This allows for comprehensive testing and improvement of LLM applications.\"),\n",
    "(\"Can LangSmith be used for finetuning and model training?\", \"Yes, LangSmith can be used for fine-tuning and model training. It allows you to capture run traces from your deployment, query and filter this data, and convert it into a format suitable for fine-tuning models. Additionally, you can create training datasets to keep track of the data used for model training.\"),\n",
    "(\"Can LangSmith be used to evaluate agents?\", \"Yes, LangSmith can be used to evaluate agents. It provides various evaluation strategies, including assessing the agent's final response, evaluating individual steps, and analyzing the trajectory of tool calls. These methods help ensure the effectiveness of LLM applications.\"),\n",
    "(\"How do I create user feedback with the LangSmith sdk?\", \"To create user feedback with the LangSmith SDK, you first need to run your application and obtain the `run_id`. Then, you can use the `create_feedback` method, providing the `run_id`, a feedback key, a score, and an optional comment. For example, in Python, it would look like this: `client.create_feedback(run_id, key=\\\"feedback-key\\\", score=1.0, comment=\\\"comment\\\")`.\"),\n",
    "]\n",
    "\n",
    "client = Client()\n",
    "dataset_id = \"6a94bbd6-83bc-473a-a3f1-b0c9dbf03f98\"\n",
    "\n",
    "# Prepare inputs and outputs for bulk creation\n",
    "inputs = [{\"question\": input_prompt} for input_prompt, _ in example_inputs]\n",
    "outputs = [{\"output\": output_answer} for _, output_answer in example_inputs]\n",
    "\n",
    "client.create_examples(\n",
    "  inputs=inputs,\n",
    "  outputs=outputs,\n",
    "  dataset_id=dataset_id,\n",
    ")"
   ]
  },
  {
   "cell_type": "code",
   "execution_count": 13,
   "metadata": {},
   "outputs": [
    {
     "data": {
      "text/plain": [
       "{'example_ids': ['2e882e6a-299a-47fb-bde6-3e5abc9edd49',\n",
       "  'c61d4b1c-f5f6-450d-99d4-ed3dd0a32494',\n",
       "  '605a8704-06a5-4991-a937-a0f0c1fcf5af',\n",
       "  'cd02c0a5-e9e0-470f-85b0-0db52265a34a',\n",
       "  'a0eb10a5-67b5-4e73-980b-656e24ef62dc',\n",
       "  '72c30368-6395-4dfa-8a12-0df05b771284',\n",
       "  '2effccf5-2543-40a6-b0c8-c0d1ce936077',\n",
       "  'f0b5f5b2-f9e2-490d-9198-73df324961f9',\n",
       "  'c18fdc5b-613f-4e34-be54-660f1fea75cc',\n",
       "  'e38f2cbc-b4da-4322-ae2d-64e4de0f0413'],\n",
       " 'count': 10}"
      ]
     },
     "execution_count": 13,
     "metadata": {},
     "output_type": "execute_result"
    }
   ],
   "source": [
    "from langsmith import Client\n",
    "import os\n",
    "\n",
    "example_inputs = [\n",
    "(\"How do I register for ICPC?\", \"To register for ICPC, visit the official ICPC website, find your regional contest page, and follow the registration instructions provided for your university or team.\"),\n",
    "(\"What documents are required to register for ICPC?\", \"Typically, you need a team roster, student IDs, and approval from your university's coach or department to complete ICPC registration.\"),\n",
    "(\"Can I register for ICPC as an individual?\", \"No, ICPC requires registration as a team of up to three students. Individuals must join or form a team to participate.\"),\n",
    "(\"When does ICPC registration usually open?\", \"ICPC registration timelines vary by region, but generally registration opens several months before the regional contests. Check your regional ICPC website for exact dates.\"),\n",
    "(\"How much does it cost to register for ICPC?\", \"Most ICPC regional contests do not charge a fee for student teams, but some regions may require a nominal registration fee. Confirm with your regional contest organizer.\"),\n",
    "(\"Who can help me with ICPC registration at my university?\", \"Your university's ICPC coach or the computer science department coordinator usually assists students with registration.\"),\n",
    "(\"Can I change my team members after registering?\", \"Some regions allow limited changes to team members before the registration deadline, but it must be approved by the regional organizers.\"),\n",
    "(\"Is there a confirmation after registering for ICPC?\", \"Yes, once your registration is approved, you usually receive a confirmation email or notification from your regional contest organizer.\"),\n",
    "(\"What happens if my university doesn't have a coach?\", \"If your university doesn't have a coach, contact your regional ICPC organizer for guidance on how to register your team.\"),\n",
    "(\"Can graduate students participate in ICPC?\", \"Participation rules vary by region, but typically ICPC is for undergraduate students. Check your regional rules for eligibility.\"),\n",
    "]\n",
    "client = Client()\n",
    "dataset_id = \"4decf553-2d18-4780-8fea-29209aa581ca\"\n",
    "\n",
    "inputs = [{\"question\": input_prompt} for input_prompt, _ in example_inputs]\n",
    "outputs = [{\"output\": output_answer} for _, output_answer in example_inputs]\n",
    "\n",
    "client.create_examples(\n",
    "  inputs=inputs,\n",
    "  outputs=outputs,\n",
    "  dataset_id=dataset_id,\n",
    ")\n"
   ]
  },
  {
   "cell_type": "markdown",
   "metadata": {},
   "source": [
    "## Submitting another Trace"
   ]
  },
  {
   "cell_type": "markdown",
   "metadata": {},
   "source": [
    "I've moved our RAG application definition to `app.py` so we can quickly import it."
   ]
  },
  {
   "cell_type": "code",
   "execution_count": 6,
   "metadata": {},
   "outputs": [],
   "source": [
    "from app import langsmith_rag"
   ]
  },
  {
   "cell_type": "markdown",
   "metadata": {},
   "source": [
    "Let's ask another question to create a new trace!"
   ]
  },
  {
   "cell_type": "code",
   "execution_count": 7,
   "metadata": {},
   "outputs": [
    {
     "data": {
      "text/plain": [
       "'To set up tracing to LangSmith using LangChain, ensure that your LangSmith instance is running and configured properly. You will need to integrate the LangChain tracer or LangSmith SDK in your application, passing the necessary hostname to submit traces. For detailed setup instructions, refer to the self-hosted usage guide provided by LangSmith.'"
      ]
     },
     "execution_count": 7,
     "metadata": {},
     "output_type": "execute_result"
    }
   ],
   "source": [
    "question = \"How do I set up tracing to LangSmith if I'm using LangChain?\"\n",
    "langsmith_rag(question)"
   ]
  },
  {
   "cell_type": "code",
   "execution_count": 23,
   "metadata": {},
   "outputs": [],
   "source": [
    "from langsmith import Client\n",
    "\n",
    "client = Client()\n",
    "dataset_id = \"4decf553-2d18-4780-8fea-29209aa581ca\"\n",
    "\n",
    "examples = client.list_examples(dataset_id=dataset_id)\n",
    "\n",
    "question = \"What documents do I need to register for ICPC?\"\n",
    "\n",
    "for ex in examples:\n",
    "    input_data = ex.inputs  \n",
    "    if question.lower() in input_data.get(\"question\", \"\").lower():\n",
    "        output_data = ex.outputs  \n",
    "        print(output_data.get(\"output\", \"No answer found\"))\n",
    "        break\n"
   ]
  },
  {
   "cell_type": "code",
   "execution_count": null,
   "metadata": {},
   "outputs": [],
   "source": []
  },
  {
   "cell_type": "code",
   "execution_count": null,
   "metadata": {},
   "outputs": [],
   "source": []
  }
 ],
 "metadata": {
  "kernelspec": {
   "display_name": "Python 3 (ipykernel)",
   "language": "python",
   "name": "python3"
  },
  "language_info": {
   "codemirror_mode": {
    "name": "ipython",
    "version": 3
   },
   "file_extension": ".py",
   "mimetype": "text/x-python",
   "name": "python",
   "nbconvert_exporter": "python",
   "pygments_lexer": "ipython3",
   "version": "3.9.1rc1"
  }
 },
 "nbformat": 4,
 "nbformat_minor": 4
}
